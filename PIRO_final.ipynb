{
 "cells": [
  {
   "cell_type": "code",
   "execution_count": 1,
   "metadata": {},
   "outputs": [],
   "source": [
    "import os.path\n",
    "import sys\n",
    "import math\n",
    "from statistics import *\n",
    "import numpy as np\n",
    "from matplotlib import pyplot as plt\n",
    "\n",
    "import skimage.io as io\n",
    "\n",
    "from skimage.measure import *\n",
    "from skimage import *\n",
    "from skimage.transform import probabilistic_hough_line\n",
    "from skimage.feature import *\n",
    "from skimage.morphology import *\n",
    "from skimage import data, color\n",
    "from skimage.transform import rescale, resize, downscale_local_mean, rotate"
   ]
  },
  {
   "cell_type": "code",
   "execution_count": null,
   "metadata": {},
   "outputs": [],
   "source": []
  },
  {
   "cell_type": "code",
   "execution_count": null,
   "metadata": {},
   "outputs": [],
   "source": []
  },
  {
   "cell_type": "code",
   "execution_count": 2,
   "metadata": {},
   "outputs": [],
   "source": [
    "def load_images(path, n):\n",
    "    images = []\n",
    "    suffix = '.png'\n",
    "    for i in range(n):\n",
    "        filepath = os.path.join(path, str(i) + suffix)\n",
    "        images.append(io.imread(filepath, as_gray=True))\n",
    "    return images\n",
    "\n",
    "def load_test_ranking(path):\n",
    "    f = open(os.path.join(path, \"correct.txt\"), \"r\")\n",
    "    img_ranking = [int(a) for a in f.read().split()]\n",
    "    \n",
    "    f.close()\n",
    "    return img_ranking"
   ]
  },
  {
   "cell_type": "code",
   "execution_count": null,
   "metadata": {},
   "outputs": [],
   "source": []
  },
  {
   "cell_type": "code",
   "execution_count": null,
   "metadata": {},
   "outputs": [],
   "source": []
  },
  {
   "cell_type": "code",
   "execution_count": null,
   "metadata": {},
   "outputs": [],
   "source": []
  },
  {
   "cell_type": "code",
   "execution_count": 3,
   "metadata": {},
   "outputs": [],
   "source": [
    "def swap(a, b):\n",
    "    c = a\n",
    "    a = b\n",
    "    b = c"
   ]
  },
  {
   "cell_type": "code",
   "execution_count": null,
   "metadata": {},
   "outputs": [],
   "source": []
  },
  {
   "cell_type": "code",
   "execution_count": 4,
   "metadata": {},
   "outputs": [],
   "source": [
    "def distance(a, b):\n",
    "    (x1, y1) = a\n",
    "    (x2, y2) = b\n",
    "    return round(math.sqrt((x1-x2)**2 + (y1-y2)**2),3)"
   ]
  },
  {
   "cell_type": "code",
   "execution_count": 5,
   "metadata": {},
   "outputs": [],
   "source": [
    "# usuwa niepotrzebne białe ramki;\n",
    "# 0 - top, 1 - bottom, 2 - left, 3 - right\n",
    "def drop_side(arr, side, n = 2): \n",
    "    if n <= 0:\n",
    "        return arr\n",
    "    \n",
    "    _arr = arr\n",
    "    while True:\n",
    "        x, y = _arr.shape\n",
    "        if side == 0:\n",
    "            if n >= x: return _arr\n",
    "            _to_sum = _arr[n]\n",
    "            _next   = _arr[1:]\n",
    "        elif side == 1:\n",
    "            if n >= x: return _arr\n",
    "            _to_sum = _arr[-n-1]\n",
    "            _next   = _arr[:-1]\n",
    "        elif side == 2:\n",
    "            if n >= y: return _arr\n",
    "            _to_sum = _arr[:,n]\n",
    "            _next   = _arr[:,1:]\n",
    "        elif side == 3:\n",
    "            if n >= y: return _arr\n",
    "            _to_sum = _arr[:,-n-1]\n",
    "            _next   = _arr[:,:-1]\n",
    "            \n",
    "        if np.count_nonzero(_to_sum) == 0:\n",
    "            _arr = _next\n",
    "        else:\n",
    "            return _arr\n",
    "    \n",
    "    return arr\n",
    "    \n",
    "def drop_empty_borders(arr, n = 2):\n",
    "    a = drop_side(arr, 0, n)\n",
    "    b = drop_side(a, 1, n)\n",
    "    c = drop_side(b, 2, n)\n",
    "    d = drop_side(c, 3, n)\n",
    "    return d"
   ]
  },
  {
   "cell_type": "code",
   "execution_count": null,
   "metadata": {},
   "outputs": [],
   "source": []
  },
  {
   "cell_type": "code",
   "execution_count": 6,
   "metadata": {},
   "outputs": [],
   "source": [
    "def add_empty_borders(image):\n",
    "    img_x = image.shape[0]    \n",
    "    img_y = image.shape[1]\n",
    "    result = np.zeros((img_x*3, img_y*3))\n",
    "    _x = int(img_x)  \n",
    "    _y = int(img_y)\n",
    "    \n",
    "    result[_x:_x+img_x, _y:_y+img_y] = image\n",
    "    return result"
   ]
  },
  {
   "cell_type": "code",
   "execution_count": 7,
   "metadata": {},
   "outputs": [],
   "source": [
    "def reverse(l):\n",
    "    a = l\n",
    "    a.reverse()\n",
    "    return a"
   ]
  },
  {
   "cell_type": "code",
   "execution_count": 8,
   "metadata": {},
   "outputs": [],
   "source": [
    "def binarize_image(img):\n",
    "    return np.where (img>0.0, 1.0, 0.0)"
   ]
  },
  {
   "cell_type": "code",
   "execution_count": null,
   "metadata": {},
   "outputs": [],
   "source": []
  },
  {
   "cell_type": "code",
   "execution_count": 9,
   "metadata": {},
   "outputs": [],
   "source": [
    "def normalise_img_size(img, size = 1024):\n",
    "    y_scale = size / img.shape[1]\n",
    "    image_resized = resize(img, (round(y_scale * img.shape[0]), size), anti_aliasing=True)\n",
    "    image_resized = np.where(image_resized > 0.0, 1.0, 0.0)\n",
    "    return image_resized"
   ]
  },
  {
   "cell_type": "code",
   "execution_count": 10,
   "metadata": {},
   "outputs": [],
   "source": [
    "# wyznacza punkt z listy, który jest najbliżej podanego\n",
    "def nearest_point_to(point, points):\n",
    "    distance_list = [(distance(point, p), p) for p in points]\n",
    "    _points = [p for _, p in sorted(distance_list)]\n",
    "    return _points[0]"
   ]
  },
  {
   "cell_type": "code",
   "execution_count": 11,
   "metadata": {},
   "outputs": [],
   "source": [
    "# wyznacza kąt między 2 prostymi o wspólnym punkcie p1\n",
    "def get_angle(p0, p1=np.array([0,0]), p2=None):\n",
    "    if p2 is None:\n",
    "        p2 = p1 + np.array([1, 0])\n",
    "    v0 = np.array(p0) - np.array(p1)\n",
    "    v1 = np.array(p2) - np.array(p1)\n",
    "\n",
    "    angle = np.math.atan2(np.linalg.det([v0,v1]),np.dot(v0,v1))\n",
    "    return np.degrees(angle)"
   ]
  },
  {
   "cell_type": "code",
   "execution_count": 12,
   "metadata": {},
   "outputs": [],
   "source": [
    "def tuple_swap(t):\n",
    "    a, b = t\n",
    "    return (b,a)"
   ]
  },
  {
   "cell_type": "code",
   "execution_count": 13,
   "metadata": {},
   "outputs": [],
   "source": [
    "def angle_between_2_lines(a, b):\n",
    "    p1, p2 = a\n",
    "    x1 = p1[0]\n",
    "    y1 = p1[1]\n",
    "    x2 = p2[0]\n",
    "    y2 = p2[1]\n",
    "    a_angle = math.atan2((y1 - y2), (x1 - x2))\n",
    "\n",
    "    p1, p2 = b\n",
    "    x1 = p1[0]\n",
    "    y1 = p1[1]\n",
    "    x2 = p2[0]\n",
    "    y2 = p2[1]\n",
    "    b_angle = math.atan2((y1 - y2), (x1 - x2))\n",
    "    result = math.degrees(abs(b_angle - a_angle)) % 180\n",
    "    if(result > 90):\n",
    "        return 180 - result\n",
    "    else:\n",
    "        return result"
   ]
  },
  {
   "cell_type": "code",
   "execution_count": 14,
   "metadata": {},
   "outputs": [],
   "source": [
    "def distance_between_two_lines(lineA, lineB):\n",
    "    (a1x, a1y), (a2x, a2y) = lineA\n",
    "    (b1x, b1y), (b2x, b2y) = lineB\n",
    "    center_a = ((a1x + a2x)/2), ((a1y + a2y)/2)\n",
    "    center_b = ((b1x + b2x)/2), ((b1y + b2y)/2)\n",
    "    return distance(center_a, center_b)"
   ]
  },
  {
   "cell_type": "code",
   "execution_count": 15,
   "metadata": {},
   "outputs": [],
   "source": [
    "def take_longest_and_not_parallel_lines(lines):\n",
    "    treshold = 5 #deg\n",
    "    lines_ = sorted([(distance(p1,p2), p1, p2) for p1, p2 in lines])\n",
    "    lines_ = [(p1, p2) for _, p1, p2 in lines_]\n",
    "    lines_.reverse()\n",
    "    \n",
    "#     if len(lines) > 10:\n",
    "#         lines_ = lines_[:int(len(lines_)/10)]\n",
    "#     return lines_\n",
    "    lines = lines_\n",
    "    result = []\n",
    "    while len(lines) > 0:\n",
    "        l = lines[0]\n",
    "        result.append(l)\n",
    "        lines = lines[1:]\n",
    "        if len(lines) > 0:\n",
    "            l1, l2 = l    \n",
    "            lines = [(p1, p2) for p1, p2 in lines if angle_between_2_lines((p1, p2), (l1, l2)) > treshold]\n",
    "\n",
    "    return result"
   ]
  },
  {
   "cell_type": "code",
   "execution_count": 16,
   "metadata": {},
   "outputs": [],
   "source": [
    "def degrees_between_line_and_x_axis(p1, p2):\n",
    "    x1 = p1[0]\n",
    "    y1 = p1[1]\n",
    "    x2 = p2[0]\n",
    "    y2 = p2[1]\n",
    "    \n",
    "    return -math.degrees(math.atan2((y1 - y2), (x1 - x2))) + 90"
   ]
  },
  {
   "cell_type": "code",
   "execution_count": 17,
   "metadata": {},
   "outputs": [],
   "source": [
    "def calc_img_determinant(img):\n",
    "    result = []\n",
    "    for i in range(img.shape[1]):\n",
    "        result.append(np.count_nonzero(img[:,i]))\n",
    "    \n",
    "    return result"
   ]
  },
  {
   "cell_type": "code",
   "execution_count": 18,
   "metadata": {},
   "outputs": [],
   "source": [
    "def normalise_vector(v):\n",
    "    _max = np.max(v)\n",
    "    \n",
    "    # zabezpieczenie: gdy są wszędzie takie same wartości to jest błąd (!)\n",
    "    if np.all(v == _max):\n",
    "        v = np.zeros(len(v))\n",
    "        v += 0.5\n",
    "        return list(v)\n",
    "        \n",
    "    _min = np.min(v)\n",
    "    v = [ (x - _min)/(_max - _min) for x in v]\n",
    "    return v"
   ]
  },
  {
   "cell_type": "code",
   "execution_count": null,
   "metadata": {
    "scrolled": false
   },
   "outputs": [],
   "source": [
    "def get_correctly_rotated_images(images):\n",
    "    correctly_rotated_images = []\n",
    "\n",
    "    for image in images:\n",
    "        image = add_empty_borders(image)\n",
    "        image = drop_empty_borders(image, 8)\n",
    "        image = normalise_img_size(image, 256) \n",
    "\n",
    "        image_orig = image\n",
    "        canny_border = canny(image)                         \n",
    "        lines = probabilistic_hough_line(canny_border, threshold=24, line_length=16, line_gap=36)\n",
    "        lines = take_longest_and_not_parallel_lines(lines)\n",
    "        #coords = corner_peaks(corner_harris(image), min_distance=3)\n",
    "        #points = list(zip(coords[:, 0], coords[:, 1]))\n",
    "\n",
    "        (p1, p2) = lines[0]\n",
    "        p = (p1, p2) = (tuple_swap(p1), tuple_swap(p2))\n",
    "\n",
    "        theta = degrees_between_line_and_x_axis(p1, p2)\n",
    "\n",
    "###################################################################################################\n",
    "########################## RYSOWANIE FIGURY, PUNKTÓW ORAZ PODSTAWY ################################\n",
    "\n",
    "#         fig, ax = plt.subplots()\n",
    "#         plt.imshow(canny_border, cmap=plt.cm.gray)\n",
    "#         plt.plot(coords[:, 1], coords[:, 0], color='red', marker='o', linestyle='None', markersize=5)\n",
    "\n",
    "#         for line in lines[:1]:\n",
    "#             p0, p1 = line\n",
    "#             plt.plot((p0[0], p1[0]), (p0[1], p1[1]), linewidth=4)\n",
    "#         plt.figure()\n",
    "#         plt.show()\n",
    "\n",
    "###################################################################################################\n",
    "\n",
    "        image_orig = rotate(add_empty_borders(image_orig), theta)\n",
    "        image_orig = drop_empty_borders(image_orig,1) \n",
    "        image_orig = normalise_img_size(image_orig, 256)\n",
    "        image_orig = image_orig[4:-4, 4:-4]\n",
    "        image_orig = opening(closing(image_orig, disk(3)), disk(8))\n",
    "        \n",
    "        # dodatkowe rotacje; jeśli wymagane\n",
    "        if image_orig.shape[0] > image_orig.shape[1]:\n",
    "            image_orig = rotate(image_orig, 90)\n",
    "        \n",
    "        if np.count_nonzero(image_orig[-16]) < (image_orig.shape[1]*0.85):\n",
    "            image_orig = rotate(image_orig, 180)\n",
    "\n",
    "        correctly_rotated_images.append(image_orig)\n",
    "\n",
    "    return correctly_rotated_images\n"
   ]
  },
  {
   "cell_type": "code",
   "execution_count": null,
   "metadata": {},
   "outputs": [],
   "source": []
  },
  {
   "cell_type": "code",
   "execution_count": 20,
   "metadata": {},
   "outputs": [],
   "source": [
    "def add_rows_at_bottom(img, n):\n",
    "    counter = 0\n",
    "    while counter < n:\n",
    "        img = np.vstack((\n",
    "            img,\n",
    "            np.ones(img.shape[1]))\n",
    "        )\n",
    "        counter += 1\n",
    "    return img\n",
    "\n",
    "def cut_image_bottom(image):\n",
    "    while True:\n",
    "        if np.count_nonzero(image[-1]) == image.shape[1]:\n",
    "            image = image[:-1]\n",
    "        else:\n",
    "            break\n",
    "    return image\n",
    "\n",
    "def cut_images_bottom(images):\n",
    "    return [cut_image_bottom(image) for image in images]"
   ]
  },
  {
   "cell_type": "code",
   "execution_count": null,
   "metadata": {},
   "outputs": [],
   "source": []
  },
  {
   "cell_type": "code",
   "execution_count": 21,
   "metadata": {},
   "outputs": [],
   "source": [
    "def count_zeros_in_columns(img):\n",
    "    return list(np.sum(img == 0, axis=0))\n",
    "\n",
    "def count_zeros_in_image(img):\n",
    "    return np.sum(img == 0)"
   ]
  },
  {
   "cell_type": "code",
   "execution_count": null,
   "metadata": {},
   "outputs": [],
   "source": []
  },
  {
   "cell_type": "code",
   "execution_count": 22,
   "metadata": {},
   "outputs": [],
   "source": [
    "def get_image_determinant(img):\n",
    "    det = count_zeros_in_columns(img)\n",
    "    det = normalise_vector(det)\n",
    "    return det\n",
    "\n",
    "def make_image_from_determinant(determinants, n = 64):\n",
    "    image = []\n",
    "    for det in determinants:\n",
    "        result = np.ones(n)\n",
    "        i = 0\n",
    "        while i < (det * n):\n",
    "            result[i] = 0.0\n",
    "            i += 1\n",
    "        result = np.flip(result)\n",
    "        np.where(result > 0, 1.0, 0.0)\n",
    "        image.append(result)\n",
    "    image = img_as_float(np.transpose(image))\n",
    "    return image\n",
    "\n",
    "def get_ranking(cut_images):\n",
    "    results = []\n",
    "    cut_images = [make_image_from_determinant(get_image_determinant(img)) for img in cut_images]\n",
    "    \n",
    "    for i in range(len(cut_images)):\n",
    "        determinants = []\n",
    "        res_imgs = []\n",
    "        current_image = img_as_int(cut_images[i])\n",
    "        np.where(current_image > 0, 1, 0)\n",
    "        for j in range(len(cut_images)):\n",
    "            if i != j:\n",
    "                _image = img_as_int(rotate(cut_images[j], 180))\n",
    "                np.where(_image > 0, 1, 0)\n",
    "                images_result = (current_image + _image) - (current_image * _image)\n",
    "                images_result = binarize_image(images_result)\n",
    "                res_imgs.append(images_result)\n",
    "                \n",
    "############################################################################################\n",
    "################## RYSOWANIE KAŻDY DO KAŻDEGO ############################################## \n",
    "#                 print(\"{} and {}\".format(i, j))\n",
    "#                 plt.imshow(images_result, cmap=plt.cm.gray)\n",
    "#                 plt.figure()\n",
    "#                 plt.show()\n",
    "############################################################################################     \n",
    "\n",
    "                det = count_zeros_in_columns(images_result)\n",
    "                det = stdev(det)\n",
    "                \n",
    "                determinants.append((det, j))\n",
    "            else:\n",
    "                res_imgs.append(current_image)\n",
    "                \n",
    "        result = [img for _, img in sorted(determinants)]\n",
    "        results.append(result)\n",
    "        \n",
    "############################################################################################\n",
    "################## RYSOWANIE WYNIKU ######################################################## \n",
    "#         idx = result[0]\n",
    "#         print(\"For {} best is {}\".format(i, idx))\n",
    "#         plt.imshow(res_imgs[idx], cmap=plt.cm.gray)\n",
    "#         plt.figure()\n",
    "#         plt.show()\n",
    "############################################################################################     \n",
    "       \n",
    "    return results"
   ]
  },
  {
   "cell_type": "code",
   "execution_count": null,
   "metadata": {
    "scrolled": false
   },
   "outputs": [],
   "source": []
  },
  {
   "cell_type": "code",
   "execution_count": 23,
   "metadata": {},
   "outputs": [],
   "source": [
    "def grade(result, test_set):\n",
    "    points = []\n",
    "    for i in range(len(result)):\n",
    "\n",
    "        p = 1 / (result[i].index(test_set[i]) + 1)\n",
    "        points.append(p)\n",
    "        \n",
    "        # print(\"Img. {:2d} -- {} pkt. -- correct: {:2d}, given ranking: {}...\".format(i, round(p, 3), test_set[i], result[i][:7]))\n",
    "    _sum = np.sum(points)\n",
    "    print(\"Total: {} pkt. ({}%)\".format(round(_sum, 3), round(_sum / len(points) * 100),3))\n",
    "    return points"
   ]
  },
  {
   "cell_type": "code",
   "execution_count": 24,
   "metadata": {},
   "outputs": [],
   "source": [
    "def print_ranking(ranking):\n",
    "    for img_r in ranking:\n",
    "        for e in img_r:\n",
    "            print(e, end='')\n",
    "        print(\"\\n\")"
   ]
  },
  {
   "cell_type": "code",
   "execution_count": 25,
   "metadata": {},
   "outputs": [],
   "source": [
    "def main(test_images_path, img_n):\n",
    "    if len(sys.argv) != 3:\n",
    "        print(\"Invalid number of args! Abort.\")\n",
    "        exit()\n",
    "\n",
    "#     _, path, n = sys.argv\n",
    "    path, n = test_images_path, img_n\n",
    "\n",
    "    img = load_images(path, int(n))\n",
    "    img_ranking = load_test_ranking(path) # test only\n",
    "    \n",
    "    rot_images = get_correctly_rotated_images(img)\n",
    "    cut_images = cut_images_bottom(rot_images)\n",
    "    ranking = get_ranking(cut_images)\n",
    "    \n",
    "    grade(ranking, img_ranking)\n",
    "    "
   ]
  },
  {
   "cell_type": "code",
   "execution_count": 28,
   "metadata": {},
   "outputs": [],
   "source": [
    "# przypadki testowe\n",
    "def run_all():\n",
    "    ns = [6,20,20,20,20,200,200,20,100]\n",
    "    for i in range(9):\n",
    "        test_images_path = os.path.join(os.getcwd(), 'test', 'set' + str(i))\n",
    "        img_n = ns[i]\n",
    "        print(\"Running set {}: \".format(i))\n",
    "        main(test_images_path, img_n)\n",
    "        print()"
   ]
  },
  {
   "cell_type": "code",
   "execution_count": 30,
   "metadata": {
    "scrolled": false
   },
   "outputs": [
    {
     "name": "stdout",
     "output_type": "stream",
     "text": [
      "Running set 0: \n",
      "Total: 6.0 pkt. (100.0%)\n",
      "\n",
      "Running set 1: \n",
      "Total: 20.0 pkt. (100.0%)\n",
      "\n",
      "Running set 2: \n",
      "Total: 20.0 pkt. (100.0%)\n",
      "\n",
      "Running set 3: \n",
      "Total: 20.0 pkt. (100.0%)\n",
      "\n",
      "Running set 4: \n",
      "Total: 20.0 pkt. (100.0%)\n",
      "\n",
      "Running set 5: \n",
      "Total: 193.582 pkt. (97.0%)\n",
      "\n",
      "Running set 6: \n",
      "Total: 171.181 pkt. (86.0%)\n",
      "\n",
      "Running set 7: \n",
      "Total: 9.936 pkt. (50.0%)\n",
      "\n",
      "Running set 8: \n",
      "Total: 36.948 pkt. (37.0%)\n",
      "\n"
     ]
    }
   ],
   "source": [
    "run_all()"
   ]
  },
  {
   "cell_type": "code",
   "execution_count": null,
   "metadata": {},
   "outputs": [],
   "source": []
  },
  {
   "cell_type": "code",
   "execution_count": null,
   "metadata": {},
   "outputs": [],
   "source": []
  },
  {
   "cell_type": "code",
   "execution_count": null,
   "metadata": {},
   "outputs": [],
   "source": []
  },
  {
   "cell_type": "code",
   "execution_count": null,
   "metadata": {},
   "outputs": [],
   "source": []
  },
  {
   "cell_type": "code",
   "execution_count": null,
   "metadata": {},
   "outputs": [],
   "source": []
  }
 ],
 "metadata": {
  "kernelspec": {
   "display_name": "Python 3",
   "language": "python",
   "name": "python3"
  },
  "language_info": {
   "codemirror_mode": {
    "name": "ipython",
    "version": 3
   },
   "file_extension": ".py",
   "mimetype": "text/x-python",
   "name": "python",
   "nbconvert_exporter": "python",
   "pygments_lexer": "ipython3",
   "version": "3.6.9"
  }
 },
 "nbformat": 4,
 "nbformat_minor": 2
}
