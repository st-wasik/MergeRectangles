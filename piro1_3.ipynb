{
 "cells": [
  {
   "cell_type": "code",
   "execution_count": 63,
   "metadata": {},
   "outputs": [],
   "source": [
    "import os.path\n",
    "import skimage.io as io\n",
    "import sys\n",
    "import math\n",
    "import statistics as st\n",
    "# import opencv\n",
    "import numpy as np\n",
    "from matplotlib import pyplot as plt\n",
    "\n",
    "from skimage.transform import rotate\n",
    "\n",
    "from skimage.measure import *\n",
    "from skimage import *\n",
    "\n",
    "from skimage.transform import probabilistic_hough_line\n",
    "\n",
    "from skimage.feature import *"
   ]
  },
  {
   "cell_type": "code",
   "execution_count": 91,
   "metadata": {},
   "outputs": [],
   "source": [
    "testImagesPath = os.path.join(os.getcwd(), 'test', 'set0')"
   ]
  },
  {
   "cell_type": "code",
   "execution_count": 92,
   "metadata": {},
   "outputs": [],
   "source": [
    "def loadImages(path, n):\n",
    "    images = []\n",
    "    suffix = '.png'\n",
    "    for i in range(n):\n",
    "        filepath = os.path.join(path, str(i) + suffix)\n",
    "        images.append(io.imread(filepath, as_gray=True))\n",
    "    return images"
   ]
  },
  {
   "cell_type": "code",
   "execution_count": 216,
   "metadata": {},
   "outputs": [],
   "source": [
    "img_n = 6\n",
    "img = loadImages(testImagesPath, img_n)"
   ]
  },
  {
   "cell_type": "code",
   "execution_count": 67,
   "metadata": {},
   "outputs": [],
   "source": [
    "def main():\n",
    "    if len(sys.argv) != 3:\n",
    "        print(\"Invalid number of args! Abort.\")\n",
    "        exit()\n",
    "        \n",
    "#     _, path, n = sys.argv\n",
    "    path, n = testImagesPath, 6\n",
    "    images = loadImages(path, int(n))"
   ]
  },
  {
   "cell_type": "code",
   "execution_count": 68,
   "metadata": {},
   "outputs": [],
   "source": [
    "def entropy(_list):\n",
    "    return -sum([p * math.log(p) if p > 0 else 0 for p in _list])"
   ]
  },
  {
   "cell_type": "code",
   "execution_count": 69,
   "metadata": {},
   "outputs": [],
   "source": [
    "def swap(a, b):\n",
    "    c = a\n",
    "    a = b\n",
    "    b = c"
   ]
  },
  {
   "cell_type": "code",
   "execution_count": 98,
   "metadata": {},
   "outputs": [],
   "source": [
    "\n",
    "\n",
    "\n",
    "\n",
    "\n",
    "\n",
    "\n",
    "\n"
   ]
  },
  {
   "cell_type": "code",
   "execution_count": 95,
   "metadata": {},
   "outputs": [],
   "source": [
    "def distance(a, b):\n",
    "    (x1, y1) = a\n",
    "    (x2, y2) = b\n",
    "    return round(math.sqrt((x1-x2)**2 + (y1-y2)**2),3)"
   ]
  },
  {
   "cell_type": "code",
   "execution_count": 96,
   "metadata": {},
   "outputs": [],
   "source": [
    "# usuwa niepotrzebne białe ramki; odpal przykład niżej\n",
    "# 0 - top, 1 - bottom, 2 - left, 3 - right\n",
    "def dropSideBorder(arr, side, n = 2): \n",
    "    if n <= 0:\n",
    "        return arr\n",
    "    \n",
    "    _arr = arr\n",
    "    while True:\n",
    "        x, y = _arr.shape\n",
    "        if side == 0:\n",
    "            if n >= x: return _arr\n",
    "            _to_sum = _arr[n]\n",
    "            _next   = _arr[1:]\n",
    "        elif side == 1:\n",
    "            if n >= x: return _arr\n",
    "            _to_sum = _arr[-n-1]\n",
    "            _next   = _arr[:-1]\n",
    "        elif side == 2:\n",
    "            if n >= y: return _arr\n",
    "            _to_sum = _arr[:,n]\n",
    "            _next   = _arr[:,1:]\n",
    "        elif side == 3:\n",
    "            if n >= y: return _arr\n",
    "            _to_sum = _arr[:,-n-1]\n",
    "            _next   = _arr[:,:-1]\n",
    "            \n",
    "        if np.count_nonzero(_to_sum) == 0:\n",
    "            _arr = _next\n",
    "        else:\n",
    "            return _arr\n",
    "    \n",
    "    return arr\n",
    "    \n",
    "def dropEmptyBorders(arr, n = 2):\n",
    "    a = dropSideBorder(arr, 0, n)\n",
    "    b = dropSideBorder(a, 1, n)\n",
    "    c = dropSideBorder(b, 2, n)\n",
    "    d = dropSideBorder(c, 3, n)\n",
    "    return d"
   ]
  },
  {
   "cell_type": "code",
   "execution_count": 73,
   "metadata": {},
   "outputs": [],
   "source": [
    "t = np.arange(225).reshape((15,15))\n",
    "t[0:2] = 0\n",
    "t[-5:] = 0\n",
    "t[:,0:7] = 0\n",
    "t[:,-3:] = 0\n",
    "\n",
    "# print(t)\n",
    "# print()\n",
    "# print(dropEmptyBorders(t, 1))"
   ]
  },
  {
   "cell_type": "code",
   "execution_count": 74,
   "metadata": {},
   "outputs": [],
   "source": [
    "def placeImageInNewAreaCenter(image):\n",
    "    img_x = image.shape[0]    \n",
    "    img_y = image.shape[1]\n",
    "    result = np.zeros((img_x*3, img_y*3))\n",
    "    _x = int(img_x)  \n",
    "    _y = int(img_y)\n",
    "    \n",
    "    result[_x:_x+img_x, _y:_y+img_y] = image\n",
    "    return result"
   ]
  },
  {
   "cell_type": "code",
   "execution_count": 167,
   "metadata": {},
   "outputs": [],
   "source": [
    "def reverse(l):\n",
    "    a = l\n",
    "    a.reverse()\n",
    "    return a"
   ]
  },
  {
   "cell_type": "code",
   "execution_count": 75,
   "metadata": {},
   "outputs": [],
   "source": [
    "def binImg(img):\n",
    "    return np.where (img>0.0, 1.0, 0.0)"
   ]
  },
  {
   "cell_type": "code",
   "execution_count": 76,
   "metadata": {},
   "outputs": [],
   "source": [
    "from skimage import data, color\n",
    "from skimage.transform import rescale, resize, downscale_local_mean"
   ]
  },
  {
   "cell_type": "code",
   "execution_count": 77,
   "metadata": {},
   "outputs": [],
   "source": [
    "# robi tak fajnie, że obraz ma szerokość X równą podanemu 'n'\n",
    "def normalise_img_size(img, size = 1024):\n",
    "    y_scale = size / img.shape[1]\n",
    "    image_resized = resize(img, (round(y_scale * img.shape[0]), size), anti_aliasing=True)\n",
    "    image_resized = np.where(image_resized > 0.0, 1.0, 0.0)\n",
    "    return image_resized"
   ]
  },
  {
   "cell_type": "code",
   "execution_count": 78,
   "metadata": {},
   "outputs": [],
   "source": [
    "# wyznacza punkt z listy, który jest najbliżej podanego\n",
    "def nearestPointTo(point, points):\n",
    "    distance_list = [(distance(point, p), p) for p in points]\n",
    "    _points = [p for _, p in sorted(distance_list)]\n",
    "    return _points[0]"
   ]
  },
  {
   "cell_type": "code",
   "execution_count": 79,
   "metadata": {},
   "outputs": [],
   "source": [
    "def get_angle(p0, p1=np.array([0,0]), p2=None):\n",
    "    ''' compute angle (in degrees) for p0p1p2 corner\n",
    "    Inputs:\n",
    "        p0,p1,p2 - points in the form of [x,y]\n",
    "    '''\n",
    "    if p2 is None:\n",
    "        p2 = p1 + np.array([1, 0])\n",
    "    v0 = np.array(p0) - np.array(p1)\n",
    "    v1 = np.array(p2) - np.array(p1)\n",
    "\n",
    "    angle = np.math.atan2(np.linalg.det([v0,v1]),np.dot(v0,v1))\n",
    "    return np.degrees(angle)"
   ]
  },
  {
   "cell_type": "code",
   "execution_count": 80,
   "metadata": {},
   "outputs": [],
   "source": [
    "# to zasadniczo ma znaleźć punkty tworzące podstawę; na wejściu są punkty skrajne z obrazka\n",
    "import itertools as it\n",
    "\n",
    "# to w sumie już teraz nie jest używane xddd\n",
    "def findBase(top, bottom, left, right):\n",
    "    \n",
    "    lines = [(top, left), (top, right), (bottom, left), (bottom, right)]\n",
    "    \n",
    "    distances_list = [(distance(p1, p2), p1, p2) for p1, p2 in lines]\n",
    "\n",
    "    lines = [(p1, p2) for _, p1, p2 in sorted(distances_list)]\n",
    "    return lines[-1]\n",
    "\n",
    "def findBaseAngle(top, bottom, left, right):\n",
    "    \n",
    "    print(\"top, right, bottom, left \", top, right, bottom, left)\n",
    "    \n",
    "    lines = [(top, left), (top, right), (bottom, left), (bottom, right)]\n",
    "    linesA = [(top, right, bottom), (right, bottom, left), (bottom, left, top), (left, top, right)]\n",
    "\n",
    "    angle_list = [(abs(get_angle(p1,p2,p3) - 90), p1, p2, p3) for p1, p2, p3 in linesA]\n",
    "    angle_list = [a for a in angle_list if abs(a[0]) < 25]\n",
    "    print(angle_list)\n",
    "    \n",
    "    \n",
    "\n",
    "    \n",
    "#     distances_list = [(distance(p1, p2), p1, p2) for p1, p2 in lines]\n",
    "\n",
    "    lines = [p2 for _, p1, p2, p3 in sorted(angle_list)]\n",
    "    return lines[0:2]"
   ]
  },
  {
   "cell_type": "code",
   "execution_count": 81,
   "metadata": {},
   "outputs": [],
   "source": [
    "def getAngle(a, b, c):\n",
    "    ang = math.degrees(math.atan2(c[1]-b[1], c[0]-b[0]) - math.atan2(a[1]-b[1], a[0]-b[0]))\n",
    "    return ang + 360 if ang < 0 else ang"
   ]
  },
  {
   "cell_type": "code",
   "execution_count": 82,
   "metadata": {},
   "outputs": [],
   "source": [
    "def tupleSwap(t):\n",
    "    a, b = t\n",
    "    return (b,a)"
   ]
  },
  {
   "cell_type": "code",
   "execution_count": 83,
   "metadata": {},
   "outputs": [],
   "source": [
    "def angle_between_2_lines(a, b):\n",
    "    p1, p2 = a\n",
    "    x1 = p1[0]\n",
    "    y1 = p1[1]\n",
    "    x2 = p2[0]\n",
    "    y2 = p2[1]\n",
    "    a_angle = math.atan2((y1 - y2), (x1 - x2))\n",
    "\n",
    "    p1, p2 = b\n",
    "    x1 = p1[0]\n",
    "    y1 = p1[1]\n",
    "    x2 = p2[0]\n",
    "    y2 = p2[1]\n",
    "    b_angle = math.atan2((y1 - y2), (x1 - x2))\n",
    "    return math.degrees(abs(b_angle - a_angle)) % 90 # 0-90 deg"
   ]
  },
  {
   "cell_type": "code",
   "execution_count": 84,
   "metadata": {},
   "outputs": [],
   "source": [
    "def take_longest_and_not_parallel_lines(lines):\n",
    "    treshold = 45 #deg\n",
    "    lines_ = sorted([(distance(p1,p2), p1, p2) for p1, p2 in lines])\n",
    "    lines_ = [(p1, p2) for _, p1, p2 in lines_]\n",
    "    lines_.reverse()\n",
    "    lines_ = lines_[:int(len(lines_)/10)]\n",
    "    \n",
    "    return lines_\n",
    "\n",
    "    result = []\n",
    "    while len(lines_) > 0:\n",
    "        l = lines_[0]\n",
    "        result.append(l)\n",
    "        if len(lines_) > 1:\n",
    "            l1, l2 = l\n",
    "            l_ = [(p1, p2) for p1, p2 in lines_[1:] if angle_between_2_lines((p1, p2), (l1, l2)) > treshold]\n",
    "            lines_ = l_\n",
    "    \n",
    "    return result"
   ]
  },
  {
   "cell_type": "code",
   "execution_count": 101,
   "metadata": {},
   "outputs": [],
   "source": [
    "# to nie do końca działa, pewnie w jakimś przypadku będzie trzeba dodać 180; teraz jest tylko poglądowo;\n",
    "# obraz moze być do góry nogami, ale będzie przynajmniej wyrównany do OX\n",
    "def degreesFromLineToXAxis(p1, p2, x_size = 256):\n",
    "    x1 = p1[0]\n",
    "    y1 = p1[1]\n",
    "    x2 = p2[0]\n",
    "    y2 = p2[1]\n",
    "\n",
    "    rotate = 0\n",
    "    \n",
    "    return -math.degrees(math.atan2((y1 - y2), (x1 - x2))) + 90 + rotate"
   ]
  },
  {
   "cell_type": "code",
   "execution_count": 110,
   "metadata": {},
   "outputs": [],
   "source": [
    "def calcImgDeterminant(img):\n",
    "    result = []\n",
    "    for i in range(img.shape[1]):\n",
    "        result.append(np.count_nonzero(img[:,i]))\n",
    "    \n",
    "    return result"
   ]
  },
  {
   "cell_type": "code",
   "execution_count": 170,
   "metadata": {},
   "outputs": [],
   "source": [
    "def normalise_vector(v):\n",
    "\n",
    "    _max = np.max(v)\n",
    "    _min = np.min(v)\n",
    "    v = [ (x - _min)/(_max - _min) for x in v]\n",
    "    return v"
   ]
  },
  {
   "cell_type": "code",
   "execution_count": 243,
   "metadata": {
    "scrolled": false
   },
   "outputs": [
    {
     "data": {
      "image/png": "[encoded data removed]",
      "text/plain": [
       "<Figure size 432x288 with 1 Axes>"
      ]
     },
     "metadata": {
      "needs_background": "light"
     },
     "output_type": "display_data"
    },
    {
     "data": {
      "text/plain": [
       "<Figure size 432x288 with 0 Axes>"
      ]
     },
     "metadata": {},
     "output_type": "display_data"
    },
    {
     "data": {
      "image/png": "[encoded data removed]",
      "text/plain": [
       "<Figure size 432x288 with 1 Axes>"
      ]
     },
     "metadata": {
      "needs_background": "light"
     },
     "output_type": "display_data"
    },
    {
     "data": {
      "text/plain": [
       "<Figure size 432x288 with 0 Axes>"
      ]
     },
     "metadata": {},
     "output_type": "display_data"
    },
    {
     "data": {
      "image/png": "[encoded data removed]",
      "text/plain": [
       "<Figure size 432x288 with 1 Axes>"
      ]
     },
     "metadata": {
      "needs_background": "light"
     },
     "output_type": "display_data"
    },
    {
     "data": {
      "text/plain": [
       "<Figure size 432x288 with 0 Axes>"
      ]
     },
     "metadata": {},
     "output_type": "display_data"
    },
    {
     "data": {
      "image/png": "[encoded data removed]",
      "text/plain": [
       "<Figure size 432x288 with 1 Axes>"
      ]
     },
     "metadata": {
      "needs_background": "light"
     },
     "output_type": "display_data"
    },
    {
     "data": {
      "text/plain": [
       "<Figure size 432x288 with 0 Axes>"
      ]
     },
     "metadata": {},
     "output_type": "display_data"
    },
    {
     "data": {
      "image/png": "[encoded data removed]",
      "text/plain": [
       "<Figure size 432x288 with 1 Axes>"
      ]
     },
     "metadata": {
      "needs_background": "light"
     },
     "output_type": "display_data"
    },
    {
     "data": {
      "text/plain": [
       "<Figure size 432x288 with 0 Axes>"
      ]
     },
     "metadata": {},
     "output_type": "display_data"
    },
    {
     "data": {
      "image/png": "[encoded data removed]",
      "text/plain": [
       "<Figure size 432x288 with 1 Axes>"
      ]
     },
     "metadata": {
      "needs_background": "light"
     },
     "output_type": "display_data"
    },
    {
     "data": {
      "text/plain": [
       "<Figure size 432x288 with 0 Axes>"
      ]
     },
     "metadata": {},
     "output_type": "display_data"
    },
    {
     "data": {
      "image/png": "[encoded data removed]",
      "text/plain": [
       "<Figure size 432x288 with 1 Axes>"
      ]
     },
     "metadata": {
      "needs_background": "light"
     },
     "output_type": "display_data"
    },
    {
     "data": {
      "text/plain": [
       "<Figure size 432x288 with 0 Axes>"
      ]
     },
     "metadata": {},
     "output_type": "display_data"
    },
    {
     "data": {
      "image/png": "[encoded data removed]",
      "text/plain": [
       "<Figure size 432x288 with 1 Axes>"
      ]
     },
     "metadata": {
      "needs_background": "light"
     },
     "output_type": "display_data"
    },
    {
     "data": {
      "text/plain": [
       "<Figure size 432x288 with 0 Axes>"
      ]
     },
     "metadata": {},
     "output_type": "display_data"
    },
    {
     "data": {
      "image/png": "[encoded data removed]",
      "text/plain": [
       "<Figure size 432x288 with 1 Axes>"
      ]
     },
     "metadata": {
      "needs_background": "light"
     },
     "output_type": "display_data"
    },
    {
     "data": {
      "text/plain": [
       "<Figure size 432x288 with 0 Axes>"
      ]
     },
     "metadata": {},
     "output_type": "display_data"
    },
    {
     "data": {
      "image/png": "[encoded data removed]",
      "text/plain": [
       "<Figure size 432x288 with 1 Axes>"
      ]
     },
     "metadata": {
      "needs_background": "light"
     },
     "output_type": "display_data"
    },
    {
     "data": {
      "text/plain": [
       "<Figure size 432x288 with 0 Axes>"
      ]
     },
     "metadata": {},
     "output_type": "display_data"
    },
    {
     "data": {
      "image/png": "[encoded data removed]",
      "text/plain": [
       "<Figure size 432x288 with 1 Axes>"
      ]
     },
     "metadata": {
      "needs_background": "light"
     },
     "output_type": "display_data"
    },
    {
     "data": {
      "text/plain": [
       "<Figure size 432x288 with 0 Axes>"
      ]
     },
     "metadata": {},
     "output_type": "display_data"
    },
    {
     "data": {
      "image/png": "[encoded data removed]",
      "text/plain": [
       "<Figure size 432x288 with 1 Axes>"
      ]
     },
     "metadata": {
      "needs_background": "light"
     },
     "output_type": "display_data"
    },
    {
     "data": {
      "text/plain": [
       "<Figure size 432x288 with 0 Axes>"
      ]
     },
     "metadata": {},
     "output_type": "display_data"
    },
    {
     "data": {
      "image/png": "[encoded data removed]",
      "text/plain": [
       "<Figure size 432x288 with 1 Axes>"
      ]
     },
     "metadata": {
      "needs_background": "light"
     },
     "output_type": "display_data"
    },
    {
     "data": {
      "text/plain": [
       "<Figure size 432x288 with 0 Axes>"
      ]
     },
     "metadata": {},
     "output_type": "display_data"
    },
    {
     "name": "stdout",
     "output_type": "stream",
     "text": [
      "For  0  best is  [5, 4, 1, 2, 3]\n",
      "For  1  best is  [5, 4, 2, 3, 0]\n",
      "For  2  best is  [5, 4, 1, 3, 0]\n",
      "For  3  best is  [5, 4, 1, 2, 0]\n",
      "For  4  best is  [5, 1, 2, 3, 0]\n",
      "For  5  best is  [4, 1, 2, 3, 0]\n"
     ]
    }
   ],
   "source": [
    "from skimage.filters import gaussian\n",
    "from skimage.morphology import *\n",
    "determinants = []\n",
    "i = 0\n",
    "for image in img:\n",
    "    image = dropEmptyBorders(image, 16)\n",
    "    image = normalise_img_size(image, 256)\n",
    "\n",
    "    image_traits = regionprops(img_as_int(image))[0]\n",
    "    image_orig = image\n",
    "    centroid = image_traits.centroid\n",
    "    canny_border = canny(image)\n",
    "    \n",
    "    lines = probabilistic_hough_line(canny_border, threshold=32, line_length=16, line_gap=32)\n",
    "    lines = take_longest_and_not_parallel_lines(lines)\n",
    "    \n",
    "    coords = corner_peaks(corner_harris(image), min_distance=4)\n",
    "   \n",
    "    # punkty jako krotki (x,y)\n",
    "    points = list(zip(coords[:, 0], coords[:, 1]))\n",
    "\n",
    "    (p1, p2) = lines[0]\n",
    "    p = (p1, p2) = (tupleSwap(p1), tupleSwap(p2))\n",
    "    \n",
    "    # kąt do obrotu, też nie zawsze działa, bo trzeba dodać ten przypadek obrotu o 180 jeszcze\n",
    "    theta = degreesFromLineToXAxis(p1, p2)\n",
    "\n",
    "    fig, ax = plt.subplots()\n",
    "#     rysuje obrazek i punkty itd\n",
    "#     magenta -> podstawa\n",
    "#     zielony -> obwód\n",
    "    plt.imshow(canny_border, cmap=plt.cm.gray)\n",
    "    plt.plot(coords[:, 1], coords[:, 0], color='red', marker='o', linestyle='None', markersize=5)\n",
    "\n",
    "#     print(len(lines))\n",
    "    for line in lines[:1]:\n",
    "        p0, p1 = line\n",
    "        plt.plot((p0[0], p1[0]), (p0[1], p1[1]), linewidth=4)\n",
    "#         plt.plot(p0[0], p0[1], color='lightblue', marker='+', linewidth=4, markersize=20)\n",
    "    \n",
    "#     plt.plot(p[:, 1], p[:, 0], color='magenta', linewidth=8, markersize=40)\n",
    "#     plt.plot(pp[:, 1], pp[:, 0], color='lightgreen', linewidth=4, markersize=20)\n",
    "\n",
    "#     plt.plot(border_points[:, 1], border_points[:, 0], color='lightblue', linewidth=4, markersize=20)\n",
    "#     plt.plot(centroid[1], centroid[0], color='lightblue', marker='+', linewidth=4, markersize=20)\n",
    "    plt.figure()\n",
    "    plt.show()\n",
    "    \n",
    "    # a tu rysuje po obrocie\n",
    "    x = rotate(placeImageInNewAreaCenter(image_orig), theta)\n",
    "    x = dropEmptyBorders(x,2) \n",
    "    x = normalise_img_size(x, 256)\n",
    "    x = x[4:-4, 4:-4]\n",
    "    \n",
    "#     x = opening(closing(x, star(3)), star(3))\n",
    "    x = closing(x, star(3))\n",
    "    \n",
    "    #mockup\n",
    "    if np.count_nonzero(x[-1]) < (x.shape[1]*0.75):\n",
    "        x = rotate(x, 180)\n",
    "\n",
    "\n",
    "        \n",
    "    if i == 0:\n",
    "        ____0 = x[:85]\n",
    "        \n",
    "    if i == 5:\n",
    "        ____5 = rotate(x[:85], 180)\n",
    "        \n",
    "    if i == 1:\n",
    "        ____1 = rotate(x[:85], 180)\n",
    "        \n",
    "    if i == 2:\n",
    "        ____2 = rotate(x[:85], 180)\n",
    "        \n",
    "    while True:\n",
    "        if np.count_nonzero(x[-1]) == x.shape[1]:\n",
    "            x = x[:-1]\n",
    "        else:\n",
    "            break\n",
    "        \n",
    "    determinant = normalise_vector(calcImgDeterminant(x))\n",
    "    determinants.append(determinant)\n",
    "\n",
    "    plt.imshow(x, cmap=plt.cm.gray)\n",
    "    plt.figure()\n",
    "    plt.show()\n",
    "    i += 1\n",
    "    \n",
    "plt.imshow(____0 * ____5, cmap=plt.cm.gray)\n",
    "plt.figure()\n",
    "plt.show()\n",
    "\n",
    "# for i in range(6):\n",
    "#     determinants[i] = [determinants[i][x] for x in range(len(determinants[i])) if x % 10 == 0 ]\n",
    "\n",
    "rev_determinants = [reverse(x) for x in determinants]\n",
    "\n",
    "#print(np.mean(determinants[0] + reverse(determinants[5])))\n",
    "for i in range(img_n):\n",
    "    res = sorted([(np.mean(np.subtract(determinants[i], rev_determinants[j])), j) for j in range(img_n) if i != j])\n",
    "    res = [x for _, x in res]\n",
    "    print(\"For \", i, \" best is \", res)"
   ]
  },
  {
   "cell_type": "code",
   "execution_count": 190,
   "metadata": {},
   "outputs": [],
   "source": [
    "\n",
    "#     return p1, p2\n",
    "    "
   ]
  },
  {
   "cell_type": "code",
   "execution_count": null,
   "metadata": {},
   "outputs": [],
   "source": [
    "# to nie do końca działa, pewnie w jakimś przypadku będzie trzeba dodać 180; teraz jest tylko poglądowo;\n",
    "# obraz moze być do góry nogami, ale będzie przynajmniej wyrównany do OX\n",
    "def degreesFromLineToXAxis(p1, p2):\n",
    "    x1 = p1[0]\n",
    "    y1 = p1[1]\n",
    "    x2 = p2[0]\n",
    "    y2 = p2[1]\n",
    "    rotate = 180 if x1 > x2 else 0\n",
    "    return -math.degrees(math.atan2((y1 - y2), (x1 - x2))) + 90 + rotate"
   ]
  },
  {
   "cell_type": "code",
   "execution_count": null,
   "metadata": {
    "scrolled": false
   },
   "outputs": [],
   "source": [
    "for image in img:\n",
    "    image = dropEmptyBorders(image, 4)\n",
    "    image = normalise_img_size(image, 256)\n",
    "\n",
    "    # wyznacza te punkty charakterystyczne; tutaj się okazuje że 32 i .2 dają póki co najlepszy wynik\n",
    "    coords = corner_peaks(corner_shi_tomasi(image), min_distance=16, threshold_rel=.1, exclude_border=False)\n",
    "   \n",
    "    # punkty jako krotki (x,y)\n",
    "    points = list(zip(coords[:, 0], coords[:, 1]))\n",
    "    \n",
    "    # left to skrajnie lewy; top skrajnie górny punkt itd\n",
    "    left = sorted([(x, (x,y)) for x, y in points])[0][1]\n",
    "    right = sorted([(x, (x,y)) for x, y in points])[-1][1]\n",
    "    top = sorted([(y, (x,y)) for x, y in points])[0][1]\n",
    "    bottom = sorted([(y, (x,y)) for x, y in points])[-1][1]\n",
    "    new_points = [right, top , left, bottom]\n",
    "    \n",
    "    # to tylko do wyświetlania obwodu figury\n",
    "    pp = np.array([list(x) for x in [right, top , left, bottom, right]])\n",
    "    \n",
    "    # a to są te punkty, którze rzekomo tworzą podstawę xd\n",
    "    # oczywiście to nie działa. nie zawsze\n",
    "    p = [p1, p2] = np.array(list(findBase(top, bottom, left, right)))\n",
    "    \n",
    "    # TODO TODO TODO\n",
    "    # ogólnie patent jest taki, żeby sprawdzić która prosta z dwoma innymi tworzy kąty proste\n",
    "    # oczywiście w 90 st się nie wstrzelimy xd\n",
    "    # więc te najlepsze trzeba będzie wziąć\n",
    "    # no i rozwiązać problem taki, że np. left i top to te same punkty; gdzieś to widać niżej, \n",
    "    # że jest trójkąt zamiast prostokąta\n",
    "\n",
    "    # kąt do obrotu, też nie zawsze działa, bo trzeba dodać ten przypadek obrotu o 180 jeszcze\n",
    "    theta = degreesFromLineToXAxis(p1, p2)\n",
    "\n",
    "    fig, ax = plt.subplots()\n",
    "    # rysuje obrazek i punkty itd\n",
    "    # magenta -> podstawa\n",
    "    # zielony -> obwód\n",
    "    plt.imshow(image, cmap=plt.cm.gray)\n",
    "    plt.plot(coords[:, 1], coords[:, 0], color='red', marker='o', linestyle='None', markersize=5)\n",
    "    plt.plot(p[:, 1], p[:, 0], color='magenta', linewidth=8, markersize=40)\n",
    "    plt.plot(pp[:, 1], pp[:, 0], color='lightgreen', linewidth=4, markersize=20)\n",
    "    plt.figure()\n",
    "    plt.show()\n",
    "    \n",
    "    # a tu rysuje po obrocie\n",
    "    # oczywiście będzie trzeba jeszcze przeskalować obraz, bo ucina trochę obracając\n",
    "    x = rotate(image, theta)\n",
    "    x = normalise_img_size(x, 256)\n",
    "    x = dropEmptyBorders(x,1) \n",
    "    x = x[2:-2, 2:-2]\n",
    "    plt.imshow(x, cmap=plt.cm.gray)\n",
    "    plt.figure()\n",
    "    plt.show()"
   ]
  },
  {
   "cell_type": "code",
   "execution_count": null,
   "metadata": {},
   "outputs": [],
   "source": []
  },
  {
   "cell_type": "code",
   "execution_count": null,
   "metadata": {},
   "outputs": [],
   "source": []
  },
  {
   "cell_type": "code",
   "execution_count": null,
   "metadata": {},
   "outputs": [],
   "source": []
  }
 ],
 "metadata": {
  "kernelspec": {
   "display_name": "Python 3",
   "language": "python",
   "name": "python3"
  },
  "language_info": {
   "codemirror_mode": {
    "name": "ipython",
    "version": 3
   },
   "file_extension": ".py",
   "mimetype": "text/x-python",
   "name": "python",
   "nbconvert_exporter": "python",
   "pygments_lexer": "ipython3",
   "version": "3.6.9"
  }
 },
 "nbformat": 4,
 "nbformat_minor": 2
}
